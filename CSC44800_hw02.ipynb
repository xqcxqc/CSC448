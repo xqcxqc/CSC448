{
 "cells": [
  {
   "cell_type": "code",
   "execution_count": 4,
   "id": "3e41d252",
   "metadata": {},
   "outputs": [],
   "source": [
    "def caesarShift(string1,n):\n",
    "    alphabet = 'abcdefghijklmnopqrstuvwxyz'\n",
    "    N = n % 26       #use modulo operation to catch number that is less then 0 or greater then 26\n",
    "\n",
    "    # Assume the text is not case sensitive, convert them to lowercase\n",
    "    contents = string1.lower()\n",
    "    string = \"\"                   #string to store result of each line\n",
    "\n",
    "    for i in range(0,len(contents)):\n",
    "\n",
    "        if contents[i] in alphabet:                              #if the character is alphabet, change it\n",
    "            index_of_characters = alphabet.find(contents[i])     #find its position in the order\n",
    "            new_index = index_of_characters + N                 #and then find the position after shifting\n",
    "\n",
    "            if new_index >= 26:\n",
    "                new_index = new_index % 26\n",
    "\n",
    "            string = string + alphabet[new_index]\n",
    "\n",
    "        else:                                                #not a alphabet, no change, just copy\n",
    "            string = string + contents[i]\n",
    "\n",
    "    # print the result\n",
    "    print(string)\n"
   ]
  },
  {
   "cell_type": "code",
   "execution_count": 6,
   "id": "a0d9c3ec",
   "metadata": {},
   "outputs": [
    {
     "name": "stdout",
     "output_type": "stream",
     "text": [
      "abc\n",
      "bcd\n",
      "cde\n"
     ]
    }
   ],
   "source": [
    "caesarShift(\"abc\",0)\n",
    "caesarShift(\"abc\",1)\n",
    "caesarShift(\"abc\",2)"
   ]
  },
  {
   "cell_type": "markdown",
   "id": "ea1d5938",
   "metadata": {},
   "source": [
    "## Explantion\n",
    "\n",
    "This code is about caesar shifting. I wrote a Python3 function to apply caesar shifting to any string. In this encrypting method, we shift the characters by some variable n. If the current character is 'a' and n=2, then we shift a to ’c’,(2 characters) and print it. This method will not encrypt whitespace/special characters, such as punctuation marks, but we will just keep them in the string between words. \n",
    "\n",
    "We assume the input string is not case sensitive. If n is a greater number than the number of characters of the English alphabet, it should go back to the alphabet. For example, we have n=28 and a character 'a'. Then the output is 'c'. The values of n can be a negative numbers as well. In that case it will go backwards to determine the character for the encryption."
   ]
  },
  {
   "cell_type": "markdown",
   "id": "fbce8af0",
   "metadata": {},
   "source": [
    "![memeUrl](https://i.kym-cdn.com/photos/images/original/002/072/999/d52.jpg \"meme\")"
   ]
  },
  {
   "cell_type": "markdown",
   "id": "99b99aba",
   "metadata": {},
   "source": [
    "<img src=\"https://img-9gag-fun.9cache.com/photo/aMKpRdV_460s.jpg\" width=\"300\" align=\"center\">\n"
   ]
  },
  {
   "cell_type": "code",
   "execution_count": null,
   "id": "28994684",
   "metadata": {},
   "outputs": [],
   "source": []
  }
 ],
 "metadata": {
  "kernelspec": {
   "display_name": "Python 3 (ipykernel)",
   "language": "python",
   "name": "python3"
  },
  "language_info": {
   "codemirror_mode": {
    "name": "ipython",
    "version": 3
   },
   "file_extension": ".py",
   "mimetype": "text/x-python",
   "name": "python",
   "nbconvert_exporter": "python",
   "pygments_lexer": "ipython3",
   "version": "3.9.7"
  }
 },
 "nbformat": 4,
 "nbformat_minor": 5
}
